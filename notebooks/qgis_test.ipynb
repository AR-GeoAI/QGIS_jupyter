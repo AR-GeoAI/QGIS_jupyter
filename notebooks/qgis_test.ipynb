{
 "cells": [
  {
   "cell_type": "code",
   "execution_count": 2,
   "id": "cd9dffdf",
   "metadata": {},
   "outputs": [
    {
     "name": "stdout",
     "output_type": "stream",
     "text": [
      "QGIS initialized successfully: <QgsProject: '' (singleton instance)>\n"
     ]
    }
   ],
   "source": [
    "%run ../setup/qgis_init.py"
   ]
  },
  {
   "cell_type": "code",
   "execution_count": 5,
   "id": "d0619c67",
   "metadata": {},
   "outputs": [
    {
     "name": "stdout",
     "output_type": "stream",
     "text": [
      "Point Layer valid: True\n",
      "Features in point layer: 1\n",
      "Polygon Layer valid: True\n",
      "Features in polygon layer: 1\n"
     ]
    }
   ],
   "source": [
    "from qgis.core import QgsVectorLayer, QgsFeature, QgsGeometry, QgsPointXY, QgsProject\n",
    "\n",
    "# Create a memory layer\n",
    "point_layer = QgsVectorLayer(\"Point?crs=EPSG:4326\", \"test\", \"memory\")\n",
    "print(\"Point Layer valid:\", point_layer.isValid())\n",
    "\n",
    "# Add a feature to test layer functionality\n",
    "point_layer.startEditing()\n",
    "feature = QgsFeature()\n",
    "feature.setGeometry(QgsGeometry.fromPointXY(QgsPointXY(10, 20)))\n",
    "point_layer.addFeature(feature)\n",
    "point_layer.commitChanges()\n",
    "print(\"Features in point layer:\", point_layer.featureCount())\n",
    "\n",
    "# Create a polygon memory layer\n",
    "polygon_layer = QgsVectorLayer(\"Polygon?crs=EPSG:4326\", \"polygon_test\", \"memory\")\n",
    "print(\"Polygon Layer valid:\", polygon_layer.isValid())\n",
    "\n",
    "# Add a triangle feature\n",
    "polygon_layer.startEditing()\n",
    "polygon_feature = QgsFeature()\n",
    "points = [QgsPointXY(30, 10), QgsPointXY(40, 20), QgsPointXY(30, 20), QgsPointXY(30, 10)]  # Closed ring\n",
    "polygon_feature.setGeometry(QgsGeometry.fromPolygonXY([points]))\n",
    "polygon_layer.addFeature(polygon_feature)\n",
    "polygon_layer.commitChanges()\n",
    "print(\"Features in polygon layer:\", polygon_layer.featureCount())\n"
   ]
  },
  {
   "cell_type": "code",
   "execution_count": 16,
   "id": "4cd09361",
   "metadata": {},
   "outputs": [
    {
     "name": "stderr",
     "output_type": "stream",
     "text": [
      "C:\\Users\\ashli\\AppData\\Local\\Temp\\ipykernel_32804\\1873830187.py:14: DeprecationWarning: QgsVectorFileWriter.writeAsVectorFormat() is deprecated\n",
      "  QgsVectorFileWriter.writeAsVectorFormat(\n",
      "C:\\Users\\ashli\\AppData\\Local\\Temp\\ipykernel_32804\\1873830187.py:23: DeprecationWarning: QgsVectorFileWriter.writeAsVectorFormat() is deprecated\n",
      "  QgsVectorFileWriter.writeAsVectorFormat(\n"
     ]
    }
   ],
   "source": [
    "#Test to create an interactive map output from generated layers above\n",
    "# Currently it is set to output a html file although there is an option to just output directly in notebook.\n",
    "\n",
    "import folium\n",
    "import json\n",
    "from qgis.core import QgsVectorFileWriter, QgsCoordinateTransformContext\n",
    "from IPython.display import display #Added to display image in VSCode not needed if directly in Jupyter\n",
    "\n",
    "# --- Export layers to temporary GeoJSON files ---\n",
    "polygon_geojson_path = r\"C:\\Users\\ashli\\QGIS_jupyter\\outputs\\test_polygon.geojson\"\n",
    "point_geojson_path = r\"C:\\Users\\ashli\\QGIS_jupyter\\outputs\\test_point.geojson\"\n",
    "\n",
    "# Export polygon layer\n",
    "QgsVectorFileWriter.writeAsVectorFormat(\n",
    "    polygon_layer,\n",
    "    polygon_geojson_path,\n",
    "    \"utf-8\",\n",
    "    polygon_layer.crs(),\n",
    "    \"GeoJSON\"\n",
    ")\n",
    "\n",
    "# Export point layer\n",
    "QgsVectorFileWriter.writeAsVectorFormat(\n",
    "    point_layer,\n",
    "    point_geojson_path,\n",
    "    \"utf-8\",\n",
    "    point_layer.crs(),\n",
    "    \"GeoJSON\"\n",
    ")\n",
    "\n",
    "# --- Create folium map ---\n",
    "m = folium.Map(location=[15, 30], zoom_start=4)\n",
    "\n",
    "# Add layers to map\n",
    "folium.GeoJson(polygon_geojson_path, name=\"Test_Polygon\").add_to(m)\n",
    "folium.GeoJson(point_geojson_path, name=\"Test_Point\").add_to(m)\n",
    "\n",
    "# Display map in notebook\n",
    "#m # Can use just this if you want it displayed within Jupyter (this doesnt work if running in VSCode)\n",
    "#m._repr_html_() #Forces a html output in VSCode but not really useful\n",
    "m.save(r\"C:\\Users\\ashli\\QGIS_jupyter\\outputs\\test_interactivemap.html\") # Outpuuts a html file that can be opened in browser\n",
    "\n"
   ]
  }
 ],
 "metadata": {
  "kernelspec": {
   "display_name": "qgis-jupyter",
   "language": "python",
   "name": "python3"
  },
  "language_info": {
   "codemirror_mode": {
    "name": "ipython",
    "version": 3
   },
   "file_extension": ".py",
   "mimetype": "text/x-python",
   "name": "python",
   "nbconvert_exporter": "python",
   "pygments_lexer": "ipython3",
   "version": "3.12.11"
  }
 },
 "nbformat": 4,
 "nbformat_minor": 5
}
