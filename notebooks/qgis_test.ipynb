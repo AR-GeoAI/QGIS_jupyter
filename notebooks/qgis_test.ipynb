%run QGIS_jupyter/setup/qgis_init.py

from qgis.core import QgsVectorLayer

layer = QgsVectorLayer("Point?crs=EPSG:4326", "test", "memory")
print("Layer valid:", layer.isValid())
