{
 "cells": [
  {
   "cell_type": "code",
   "execution_count": 1,
   "id": "cd9dffdf",
   "metadata": {},
   "outputs": [
    {
     "name": "stdout",
     "output_type": "stream",
     "text": [
      "QGIS initialized successfully: <QgsProject: '' (singleton instance)>\n"
     ]
    }
   ],
   "source": [
    "%run ../setup/qgis_init.py"
   ]
  },
  {
   "cell_type": "code",
   "execution_count": 2,
   "id": "d0619c67",
   "metadata": {},
   "outputs": [
    {
     "name": "stdout",
     "output_type": "stream",
     "text": [
      "Layer valid: True\n",
      "Features in layer: 1\n"
     ]
    }
   ],
   "source": [
    "from qgis.core import QgsVectorLayer, QgsFeature, QgsPointXY, QgsGeometry\n",
    "\n",
    "# Create a memory layer\n",
    "layer = QgsVectorLayer(\"Point?crs=EPSG:4326\", \"test\", \"memory\")\n",
    "print(\"Layer valid:\", layer.isValid())\n",
    "\n",
    "# Add a feature to test layer functionality\n",
    "layer.startEditing()\n",
    "feature = QgsFeature()\n",
    "feature.setGeometry(QgsGeometry.fromPointXY(QgsPointXY(10, 20)))\n",
    "layer.addFeature(feature)\n",
    "layer.commitChanges()\n",
    "print(\"Features in layer:\", layer.featureCount())"
   ]
  },
  {
   "cell_type": "code",
   "execution_count": 3,
   "id": "df541020-af25-415d-a2d3-0f273aabd477",
   "metadata": {},
   "outputs": [
    {
     "name": "stdout",
     "output_type": "stream",
     "text": [
      "Polygon Layer valid: True\n",
      "Features in polygon layer: 1\n"
     ]
    }
   ],
   "source": [
    "from qgis.core import QgsVectorLayer, QgsFeature, QgsGeometry, QgsPointXY, QgsProject\n",
    "\n",
    "# Create a polygon memory layer\n",
    "polygon_layer = QgsVectorLayer(\"Polygon?crs=EPSG:4326\", \"polygon_test\", \"memory\")\n",
    "print(\"Polygon Layer valid:\", polygon_layer.isValid())\n",
    "\n",
    "# Add a triangle feature\n",
    "polygon_layer.startEditing()\n",
    "polygon_feature = QgsFeature()\n",
    "points = [QgsPointXY(30, 10), QgsPointXY(40, 20), QgsPointXY(30, 20), QgsPointXY(30, 10)]  # Closed ring\n",
    "polygon_feature.setGeometry(QgsGeometry.fromPolygonXY([points]))\n",
    "polygon_layer.addFeature(polygon_feature)\n",
    "polygon_layer.commitChanges()\n",
    "print(\"Features in polygon layer:\", polygon_layer.featureCount())\n"
   ]
  }
 ],
 "metadata": {
  "kernelspec": {
   "display_name": "qgis-jupyter",
   "language": "python",
   "name": "python3"
  },
  "language_info": {
   "codemirror_mode": {
    "name": "ipython",
    "version": 3
   },
   "file_extension": ".py",
   "mimetype": "text/x-python",
   "name": "python",
   "nbconvert_exporter": "python",
   "pygments_lexer": "ipython3",
   "version": "3.12.11"
  }
 },
 "nbformat": 4,
 "nbformat_minor": 5
}
