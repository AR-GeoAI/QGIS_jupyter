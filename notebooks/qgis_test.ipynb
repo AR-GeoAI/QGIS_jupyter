# notebooks/qgis_test.ipynb
%run ../setup/qgis_init.py

from qgis.core import QgsVectorLayer

# Create a memory layer
layer = QgsVectorLayer("Point?crs=EPSG:4326", "test", "memory")
print("Layer valid:", layer.isValid())

# Optional: Add a feature to test layer functionality
from qgis.core import QgsFeature, QgsPointXY
layer.startEditing()
feature = QgsFeature()
feature.setGeometry(QgsPointXY(10, 20))
layer.addFeature(feature)
layer.commitChanges()
print("Features in layer:", layer.featureCount())
