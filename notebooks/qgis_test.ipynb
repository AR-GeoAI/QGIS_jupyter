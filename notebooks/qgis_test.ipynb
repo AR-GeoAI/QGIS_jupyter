{
 "cells": [
  {
   "cell_type": "code",
   "execution_count": null,
   "metadata": {},
   "outputs": [],
   "source": [
    "%run ../setup/qgis_init.py"
   ]
  },
  {
   "cell_type": "code",
   "execution_count": null,
   "metadata": {},
   "outputs": [],
   "source": [
    "from qgis.core import QgsVectorLayer, QgsFeature, QgsPointXY\n",
    "\n",
    "# Create a memory layer\n",
    "layer = QgsVectorLayer(\"Point?crs=EPSG:4326\", \"test\", \"memory\")\n",
    "print(\"Layer valid:\", layer.isValid())\n",
    "\n",
    "# Add a feature to test layer functionality\n",
    "layer.startEditing()\n",
    "feature = QgsFeature()\n",
    "feature.setGeometry(QgsPointXY(10, 20))\n",
    "layer.addFeature(feature)\n",
    "layer.commitChanges()\n",
    "print(\"Features in layer:\", layer.featureCount())"
   ]
  }
 ],
 "metadata": {
  "kernelspec": {
   "display_name": "Python (QGIS 3.36)",
   "language": "python",
   "name": "qgis-jupyter"
  },
  "language_info": {
   "codemirror_mode": {
    "name": "ipython",
    "version": 3
   },
   "file_extension": ".py",
   "mimetype": "text/x-python",
   "name": "python",
   "nbconvert_exporter": "python",
   "pygments_lexer": "ipython3",
   "version": "3.12.2"
  }
 },
 "nbformat": 4,
 "nbformat_minor": 5
}
